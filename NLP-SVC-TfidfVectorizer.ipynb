{
 "cells": [
  {
   "cell_type": "code",
   "execution_count": 1,
   "id": "d8c67b70",
   "metadata": {},
   "outputs": [
    {
     "name": "stderr",
     "output_type": "stream",
     "text": [
      "[nltk_data] Downloading package omw-1.4 to\n",
      "[nltk_data]     C:\\Users\\thors\\AppData\\Roaming\\nltk_data...\n",
      "[nltk_data]   Package omw-1.4 is already up-to-date!\n",
      "[nltk_data] Downloading package stopwords to\n",
      "[nltk_data]     C:\\Users\\thors\\AppData\\Roaming\\nltk_data...\n",
      "[nltk_data]   Package stopwords is already up-to-date!\n"
     ]
    }
   ],
   "source": [
    "#Importing necessary packages, setting lemmatizer, stemmer, vectorizer\n",
    "import numpy as np\n",
    "import pandas as pd\n",
    "from nltk.corpus import stopwords\n",
    "from nltk.tokenize import word_tokenize\n",
    "from nltk.stem import WordNetLemmatizer\n",
    "from nltk.stem import SnowballStemmer\n",
    "import nltk.data\n",
    "from sklearn.model_selection import train_test_split\n",
    "from sklearn.feature_extraction.text import TfidfVectorizer\n",
    "import nltk\n",
    "nltk.download('omw-1.4')\n",
    "nltk.download('stopwords')\n",
    "lemmatizer=WordNetLemmatizer()\n",
    "stemmer=SnowballStemmer(\"english\")\n",
    "vectorizer=TfidfVectorizer()"
   ]
  },
  {
   "cell_type": "code",
   "execution_count": 2,
   "id": "32b3aa9f",
   "metadata": {},
   "outputs": [
    {
     "data": {
      "text/plain": [
       "['test', 'good', 'caus', \"'s\", \"test'sij\"]"
      ]
     },
     "execution_count": 2,
     "metadata": {},
     "output_type": "execute_result"
    }
   ],
   "source": [
    "#Assessing what preprocessing does\n",
    "stop_words=set(stopwords.words(\"english\"))\n",
    "filtered_list=[]\n",
    "tokens=word_tokenize(\"test for a good causes's test'sij\")\n",
    "tokens=[w for w in tokens if not w in stop_words]\n",
    "tokens=[lemmatizer.lemmatize(x) for x in tokens]\n",
    "tokens=[stemmer.stem(w) for w in tokens]\n",
    "tokens"
   ]
  },
  {
   "cell_type": "code",
   "execution_count": 3,
   "id": "514a1286",
   "metadata": {},
   "outputs": [],
   "source": [
    "import sys\n",
    "import tweepy"
   ]
  },
  {
   "cell_type": "code",
   "execution_count": 4,
   "id": "69fbe1c1",
   "metadata": {},
   "outputs": [],
   "source": [
    "# Authentication for twitter api\n",
    "consumerKey = 'x'\n",
    "consumerSecret = 'x'\n",
    "accessToken = 'x'\n",
    "accessTokenSecret = 'x'\n",
    "auth = tweepy.OAuthHandler(consumerKey, consumerSecret)\n",
    "auth.set_access_token(accessToken, accessTokenSecret)\n",
    "api = tweepy.API(auth)\n",
    "bearer_token='x'\n",
    "client=tweepy.Client(bearer_token)"
   ]
  },
  {
   "cell_type": "code",
   "execution_count": 5,
   "id": "1a4042f9",
   "metadata": {},
   "outputs": [],
   "source": [
    "#Searching for tweets and formatting\n",
    "search_query='from:CaucasianJames'\n",
    "tweets = client.search_recent_tweets(search_query, max_results=20)"
   ]
  },
  {
   "cell_type": "code",
   "execution_count": 6,
   "id": "d31bc811",
   "metadata": {},
   "outputs": [],
   "source": [
    "tweetlist=[]\n",
    "for tweet in tweets.data:\n",
    "    x=str(tweet).split(':')\n",
    "    if x[0].find('RT')!= -1:\n",
    "        del x[0]\n",
    "    ''.join(x)\n",
    "    tweetlist.append(x)\n",
    "    \n",
    "\n",
    "live=pd.DataFrame({'selected_text': tweetlist})\n"
   ]
  },
  {
   "cell_type": "code",
   "execution_count": 7,
   "id": "8be1e04c",
   "metadata": {},
   "outputs": [],
   "source": [
    "#Joining api to dataset as they need to run through the same vectorizer\n",
    "df=pd.read_csv(\"C:/Users/thors/Downloads/Tweets.csv.zip\")\n",
    "#Dataset: https://www.kaggle.com/datasets/yasserh/twitter-tweets-sentiment-dataset \n",
    "df=pd.concat([live, df], ignore_index=True)"
   ]
  },
  {
   "cell_type": "code",
   "execution_count": null,
   "id": "1f38c7ac",
   "metadata": {},
   "outputs": [],
   "source": [
    "#Preprocessing"
   ]
  },
  {
   "cell_type": "code",
   "execution_count": 8,
   "id": "96727000",
   "metadata": {},
   "outputs": [
    {
     "data": {
      "text/html": [
       "<div>\n",
       "<style scoped>\n",
       "    .dataframe tbody tr th:only-of-type {\n",
       "        vertical-align: middle;\n",
       "    }\n",
       "\n",
       "    .dataframe tbody tr th {\n",
       "        vertical-align: top;\n",
       "    }\n",
       "\n",
       "    .dataframe thead th {\n",
       "        text-align: right;\n",
       "    }\n",
       "</style>\n",
       "<table border=\"1\" class=\"dataframe\">\n",
       "  <thead>\n",
       "    <tr style=\"text-align: right;\">\n",
       "      <th></th>\n",
       "      <th>selected_text</th>\n",
       "      <th>textID</th>\n",
       "      <th>text</th>\n",
       "      <th>sentiment</th>\n",
       "    </tr>\n",
       "  </thead>\n",
       "  <tbody>\n",
       "    <tr>\n",
       "      <th>0</th>\n",
       "      <td>[@MrAnderson_13 yeah why not]</td>\n",
       "      <td>NaN</td>\n",
       "      <td>NaN</td>\n",
       "      <td>NaN</td>\n",
       "    </tr>\n",
       "    <tr>\n",
       "      <th>1</th>\n",
       "      <td>[out now let’s roll \\n\\nhttps, //t.co/LSsz7LvRDs]</td>\n",
       "      <td>NaN</td>\n",
       "      <td>NaN</td>\n",
       "      <td>NaN</td>\n",
       "    </tr>\n",
       "    <tr>\n",
       "      <th>2</th>\n",
       "      <td>[@guitaromantics ur welcome]</td>\n",
       "      <td>NaN</td>\n",
       "      <td>NaN</td>\n",
       "      <td>NaN</td>\n",
       "    </tr>\n",
       "    <tr>\n",
       "      <th>3</th>\n",
       "      <td>[the caucasian james silly shirt collection dr...</td>\n",
       "      <td>NaN</td>\n",
       "      <td>NaN</td>\n",
       "      <td>NaN</td>\n",
       "    </tr>\n",
       "    <tr>\n",
       "      <th>4</th>\n",
       "      <td>[just another reminder that this is my summer]</td>\n",
       "      <td>NaN</td>\n",
       "      <td>NaN</td>\n",
       "      <td>NaN</td>\n",
       "    </tr>\n",
       "  </tbody>\n",
       "</table>\n",
       "</div>"
      ],
      "text/plain": [
       "                                       selected_text textID text sentiment\n",
       "0                      [@MrAnderson_13 yeah why not]    NaN  NaN       NaN\n",
       "1  [out now let’s roll \\n\\nhttps, //t.co/LSsz7LvRDs]    NaN  NaN       NaN\n",
       "2                       [@guitaromantics ur welcome]    NaN  NaN       NaN\n",
       "3  [the caucasian james silly shirt collection dr...    NaN  NaN       NaN\n",
       "4     [just another reminder that this is my summer]    NaN  NaN       NaN"
      ]
     },
     "execution_count": 8,
     "metadata": {},
     "output_type": "execute_result"
    }
   ],
   "source": [
    "df.head(5)"
   ]
  },
  {
   "cell_type": "code",
   "execution_count": 9,
   "id": "798ab31d",
   "metadata": {},
   "outputs": [
    {
     "data": {
      "text/html": [
       "<div>\n",
       "<style scoped>\n",
       "    .dataframe tbody tr th:only-of-type {\n",
       "        vertical-align: middle;\n",
       "    }\n",
       "\n",
       "    .dataframe tbody tr th {\n",
       "        vertical-align: top;\n",
       "    }\n",
       "\n",
       "    .dataframe thead th {\n",
       "        text-align: right;\n",
       "    }\n",
       "</style>\n",
       "<table border=\"1\" class=\"dataframe\">\n",
       "  <thead>\n",
       "    <tr style=\"text-align: right;\">\n",
       "      <th></th>\n",
       "      <th>selected_text</th>\n",
       "      <th>sentiment</th>\n",
       "    </tr>\n",
       "  </thead>\n",
       "  <tbody>\n",
       "    <tr>\n",
       "      <th>0</th>\n",
       "      <td>[@MrAnderson_13 yeah why not]</td>\n",
       "      <td>NaN</td>\n",
       "    </tr>\n",
       "    <tr>\n",
       "      <th>1</th>\n",
       "      <td>[out now let’s roll \\n\\nhttps, //t.co/LSsz7LvRDs]</td>\n",
       "      <td>NaN</td>\n",
       "    </tr>\n",
       "    <tr>\n",
       "      <th>2</th>\n",
       "      <td>[@guitaromantics ur welcome]</td>\n",
       "      <td>NaN</td>\n",
       "    </tr>\n",
       "    <tr>\n",
       "      <th>3</th>\n",
       "      <td>[the caucasian james silly shirt collection dr...</td>\n",
       "      <td>NaN</td>\n",
       "    </tr>\n",
       "    <tr>\n",
       "      <th>4</th>\n",
       "      <td>[just another reminder that this is my summer]</td>\n",
       "      <td>NaN</td>\n",
       "    </tr>\n",
       "  </tbody>\n",
       "</table>\n",
       "</div>"
      ],
      "text/plain": [
       "                                       selected_text sentiment\n",
       "0                      [@MrAnderson_13 yeah why not]       NaN\n",
       "1  [out now let’s roll \\n\\nhttps, //t.co/LSsz7LvRDs]       NaN\n",
       "2                       [@guitaromantics ur welcome]       NaN\n",
       "3  [the caucasian james silly shirt collection dr...       NaN\n",
       "4     [just another reminder that this is my summer]       NaN"
      ]
     },
     "execution_count": 9,
     "metadata": {},
     "output_type": "execute_result"
    }
   ],
   "source": [
    "df=df.drop('textID', axis='columns')\n",
    "df=df.drop('text', axis='columns')\n",
    "df.head(5)"
   ]
  },
  {
   "cell_type": "code",
   "execution_count": 10,
   "id": "1dee340d",
   "metadata": {},
   "outputs": [],
   "source": [
    "df=df.replace(\"neutral\", 0)\n",
    "df=df.replace(\"negative\", -1)\n",
    "df=df.replace(\"positive\", 1)\n"
   ]
  },
  {
   "cell_type": "code",
   "execution_count": 11,
   "id": "bdccb87f",
   "metadata": {},
   "outputs": [
    {
     "data": {
      "text/html": [
       "<div>\n",
       "<style scoped>\n",
       "    .dataframe tbody tr th:only-of-type {\n",
       "        vertical-align: middle;\n",
       "    }\n",
       "\n",
       "    .dataframe tbody tr th {\n",
       "        vertical-align: top;\n",
       "    }\n",
       "\n",
       "    .dataframe thead th {\n",
       "        text-align: right;\n",
       "    }\n",
       "</style>\n",
       "<table border=\"1\" class=\"dataframe\">\n",
       "  <thead>\n",
       "    <tr style=\"text-align: right;\">\n",
       "      <th></th>\n",
       "      <th>selected_text</th>\n",
       "      <th>sentiment</th>\n",
       "    </tr>\n",
       "  </thead>\n",
       "  <tbody>\n",
       "    <tr>\n",
       "      <th>0</th>\n",
       "      <td>[[, ', @, MrAnderson_13, yeah, why, not, ', ]]</td>\n",
       "      <td>NaN</td>\n",
       "    </tr>\n",
       "    <tr>\n",
       "      <th>1</th>\n",
       "      <td>[[, 'out, now, let, ’, s, roll, \\n\\nhttps, ', ...</td>\n",
       "      <td>NaN</td>\n",
       "    </tr>\n",
       "    <tr>\n",
       "      <th>2</th>\n",
       "      <td>[[, ', @, guitaromantics, ur, welcome, ', ]]</td>\n",
       "      <td>NaN</td>\n",
       "    </tr>\n",
       "    <tr>\n",
       "      <th>3</th>\n",
       "      <td>[[, 'the, caucasian, james, silly, shirt, coll...</td>\n",
       "      <td>NaN</td>\n",
       "    </tr>\n",
       "    <tr>\n",
       "      <th>4</th>\n",
       "      <td>[[, 'just, another, reminder, that, this, is, ...</td>\n",
       "      <td>NaN</td>\n",
       "    </tr>\n",
       "  </tbody>\n",
       "</table>\n",
       "</div>"
      ],
      "text/plain": [
       "                                       selected_text  sentiment\n",
       "0     [[, ', @, MrAnderson_13, yeah, why, not, ', ]]        NaN\n",
       "1  [[, 'out, now, let, ’, s, roll, \\n\\nhttps, ', ...        NaN\n",
       "2       [[, ', @, guitaromantics, ur, welcome, ', ]]        NaN\n",
       "3  [[, 'the, caucasian, james, silly, shirt, coll...        NaN\n",
       "4  [[, 'just, another, reminder, that, this, is, ...        NaN"
      ]
     },
     "execution_count": 11,
     "metadata": {},
     "output_type": "execute_result"
    }
   ],
   "source": [
    "df['selected_text']=df.selected_text.apply(lambda x: word_tokenize(str(x)))\n",
    "df.head(5)"
   ]
  },
  {
   "cell_type": "code",
   "execution_count": 12,
   "id": "2a851532",
   "metadata": {},
   "outputs": [
    {
     "data": {
      "text/html": [
       "<div>\n",
       "<style scoped>\n",
       "    .dataframe tbody tr th:only-of-type {\n",
       "        vertical-align: middle;\n",
       "    }\n",
       "\n",
       "    .dataframe tbody tr th {\n",
       "        vertical-align: top;\n",
       "    }\n",
       "\n",
       "    .dataframe thead th {\n",
       "        text-align: right;\n",
       "    }\n",
       "</style>\n",
       "<table border=\"1\" class=\"dataframe\">\n",
       "  <thead>\n",
       "    <tr style=\"text-align: right;\">\n",
       "      <th></th>\n",
       "      <th>selected_text</th>\n",
       "      <th>sentiment</th>\n",
       "    </tr>\n",
       "  </thead>\n",
       "  <tbody>\n",
       "    <tr>\n",
       "      <th>0</th>\n",
       "      <td>[[, ', @, MrAnderson_13, yeah, ', ]]</td>\n",
       "      <td>NaN</td>\n",
       "    </tr>\n",
       "    <tr>\n",
       "      <th>1</th>\n",
       "      <td>[[, 'out, let, ’, roll, \\n\\nhttps, ', '//t.co/...</td>\n",
       "      <td>NaN</td>\n",
       "    </tr>\n",
       "    <tr>\n",
       "      <th>2</th>\n",
       "      <td>[[, ', @, guitaromantics, ur, welcome, ', ]]</td>\n",
       "      <td>NaN</td>\n",
       "    </tr>\n",
       "    <tr>\n",
       "      <th>3</th>\n",
       "      <td>[[, 'the, caucasian, james, silly, shirt, coll...</td>\n",
       "      <td>NaN</td>\n",
       "    </tr>\n",
       "    <tr>\n",
       "      <th>4</th>\n",
       "      <td>[[, 'just, another, reminder, summer, ', ]]</td>\n",
       "      <td>NaN</td>\n",
       "    </tr>\n",
       "  </tbody>\n",
       "</table>\n",
       "</div>"
      ],
      "text/plain": [
       "                                       selected_text  sentiment\n",
       "0               [[, ', @, MrAnderson_13, yeah, ', ]]        NaN\n",
       "1  [[, 'out, let, ’, roll, \\n\\nhttps, ', '//t.co/...        NaN\n",
       "2       [[, ', @, guitaromantics, ur, welcome, ', ]]        NaN\n",
       "3  [[, 'the, caucasian, james, silly, shirt, coll...        NaN\n",
       "4        [[, 'just, another, reminder, summer, ', ]]        NaN"
      ]
     },
     "execution_count": 12,
     "metadata": {},
     "output_type": "execute_result"
    }
   ],
   "source": [
    "punct=[':',',','`','.','!',';','?']\n",
    "df['selected_text']=df.selected_text.apply(lambda tokens: [w for w in tokens if not w in stop_words])\n",
    "df['selected_text']=df.selected_text.apply(lambda tokens: [w for w in tokens if not w in punct])\n",
    "df.head(5)"
   ]
  },
  {
   "cell_type": "code",
   "execution_count": 13,
   "id": "efe0a10b",
   "metadata": {},
   "outputs": [
    {
     "data": {
      "text/html": [
       "<div>\n",
       "<style scoped>\n",
       "    .dataframe tbody tr th:only-of-type {\n",
       "        vertical-align: middle;\n",
       "    }\n",
       "\n",
       "    .dataframe tbody tr th {\n",
       "        vertical-align: top;\n",
       "    }\n",
       "\n",
       "    .dataframe thead th {\n",
       "        text-align: right;\n",
       "    }\n",
       "</style>\n",
       "<table border=\"1\" class=\"dataframe\">\n",
       "  <thead>\n",
       "    <tr style=\"text-align: right;\">\n",
       "      <th></th>\n",
       "      <th>selected_text</th>\n",
       "      <th>sentiment</th>\n",
       "    </tr>\n",
       "  </thead>\n",
       "  <tbody>\n",
       "    <tr>\n",
       "      <th>0</th>\n",
       "      <td>[[, ', @, mranderson_13, yeah, ', ]]</td>\n",
       "      <td>NaN</td>\n",
       "    </tr>\n",
       "    <tr>\n",
       "      <th>1</th>\n",
       "      <td>[[, out, let, ’, roll, \\n\\nhttps, ', //t.co/ls...</td>\n",
       "      <td>NaN</td>\n",
       "    </tr>\n",
       "    <tr>\n",
       "      <th>2</th>\n",
       "      <td>[[, ', @, guitaromant, ur, welcom, ', ]]</td>\n",
       "      <td>NaN</td>\n",
       "    </tr>\n",
       "    <tr>\n",
       "      <th>3</th>\n",
       "      <td>[[, the, caucasian, jame, silli, shirt, collec...</td>\n",
       "      <td>NaN</td>\n",
       "    </tr>\n",
       "    <tr>\n",
       "      <th>4</th>\n",
       "      <td>[[, just, anoth, remind, summer, ', ]]</td>\n",
       "      <td>NaN</td>\n",
       "    </tr>\n",
       "  </tbody>\n",
       "</table>\n",
       "</div>"
      ],
      "text/plain": [
       "                                       selected_text  sentiment\n",
       "0               [[, ', @, mranderson_13, yeah, ', ]]        NaN\n",
       "1  [[, out, let, ’, roll, \\n\\nhttps, ', //t.co/ls...        NaN\n",
       "2           [[, ', @, guitaromant, ur, welcom, ', ]]        NaN\n",
       "3  [[, the, caucasian, jame, silli, shirt, collec...        NaN\n",
       "4             [[, just, anoth, remind, summer, ', ]]        NaN"
      ]
     },
     "execution_count": 13,
     "metadata": {},
     "output_type": "execute_result"
    }
   ],
   "source": [
    "df['selected_text']=df.selected_text.apply(lambda tokens: [stemmer.stem(w) for w in tokens])\n",
    "df.head(5)"
   ]
  },
  {
   "cell_type": "code",
   "execution_count": 14,
   "id": "6ec9ab25",
   "metadata": {},
   "outputs": [
    {
     "data": {
      "text/html": [
       "<div>\n",
       "<style scoped>\n",
       "    .dataframe tbody tr th:only-of-type {\n",
       "        vertical-align: middle;\n",
       "    }\n",
       "\n",
       "    .dataframe tbody tr th {\n",
       "        vertical-align: top;\n",
       "    }\n",
       "\n",
       "    .dataframe thead th {\n",
       "        text-align: right;\n",
       "    }\n",
       "</style>\n",
       "<table border=\"1\" class=\"dataframe\">\n",
       "  <thead>\n",
       "    <tr style=\"text-align: right;\">\n",
       "      <th></th>\n",
       "      <th>selected_text</th>\n",
       "      <th>sentiment</th>\n",
       "    </tr>\n",
       "  </thead>\n",
       "  <tbody>\n",
       "    <tr>\n",
       "      <th>0</th>\n",
       "      <td>[ ' @ mranderson_13 yeah ' ]</td>\n",
       "      <td>NaN</td>\n",
       "    </tr>\n",
       "    <tr>\n",
       "      <th>1</th>\n",
       "      <td>[ out let ’ roll \\n\\nhttps ' //t.co/lssz7lvrd ' ]</td>\n",
       "      <td>NaN</td>\n",
       "    </tr>\n",
       "    <tr>\n",
       "      <th>2</th>\n",
       "      <td>[ ' @ guitaromant ur welcom ' ]</td>\n",
       "      <td>NaN</td>\n",
       "    </tr>\n",
       "    <tr>\n",
       "      <th>3</th>\n",
       "      <td>[ the caucasian jame silli shirt collect drop ...</td>\n",
       "      <td>NaN</td>\n",
       "    </tr>\n",
       "    <tr>\n",
       "      <th>4</th>\n",
       "      <td>[ just anoth remind summer ' ]</td>\n",
       "      <td>NaN</td>\n",
       "    </tr>\n",
       "  </tbody>\n",
       "</table>\n",
       "</div>"
      ],
      "text/plain": [
       "                                       selected_text  sentiment\n",
       "0                       [ ' @ mranderson_13 yeah ' ]        NaN\n",
       "1  [ out let ’ roll \\n\\nhttps ' //t.co/lssz7lvrd ' ]        NaN\n",
       "2                    [ ' @ guitaromant ur welcom ' ]        NaN\n",
       "3  [ the caucasian jame silli shirt collect drop ...        NaN\n",
       "4                     [ just anoth remind summer ' ]        NaN"
      ]
     },
     "execution_count": 14,
     "metadata": {},
     "output_type": "execute_result"
    }
   ],
   "source": [
    "df['selected_text']=df.selected_text.apply(lambda tokens: ' '.join([str(w) for w in tokens]))\n",
    "df.head(5)"
   ]
  },
  {
   "cell_type": "code",
   "execution_count": 15,
   "id": "6c17e011",
   "metadata": {},
   "outputs": [],
   "source": [
    "x=vectorizer.fit_transform(df.selected_text.values).toarray()"
   ]
  },
  {
   "cell_type": "code",
   "execution_count": 16,
   "id": "3679cff3",
   "metadata": {},
   "outputs": [
    {
     "data": {
      "text/html": [
       "<div>\n",
       "<style scoped>\n",
       "    .dataframe tbody tr th:only-of-type {\n",
       "        vertical-align: middle;\n",
       "    }\n",
       "\n",
       "    .dataframe tbody tr th {\n",
       "        vertical-align: top;\n",
       "    }\n",
       "\n",
       "    .dataframe thead th {\n",
       "        text-align: right;\n",
       "    }\n",
       "</style>\n",
       "<table border=\"1\" class=\"dataframe\">\n",
       "  <thead>\n",
       "    <tr style=\"text-align: right;\">\n",
       "      <th></th>\n",
       "      <th>selected_text</th>\n",
       "      <th>sentiment</th>\n",
       "    </tr>\n",
       "  </thead>\n",
       "  <tbody>\n",
       "    <tr>\n",
       "      <th>20</th>\n",
       "      <td>i respond i go</td>\n",
       "      <td>0.0</td>\n",
       "    </tr>\n",
       "    <tr>\n",
       "      <th>21</th>\n",
       "      <td>sooo sad</td>\n",
       "      <td>-1.0</td>\n",
       "    </tr>\n",
       "    <tr>\n",
       "      <th>22</th>\n",
       "      <td>bulli</td>\n",
       "      <td>-1.0</td>\n",
       "    </tr>\n",
       "    <tr>\n",
       "      <th>23</th>\n",
       "      <td>leav alon</td>\n",
       "      <td>-1.0</td>\n",
       "    </tr>\n",
       "    <tr>\n",
       "      <th>24</th>\n",
       "      <td>son * * * *</td>\n",
       "      <td>-1.0</td>\n",
       "    </tr>\n",
       "    <tr>\n",
       "      <th>...</th>\n",
       "      <td>...</td>\n",
       "      <td>...</td>\n",
       "    </tr>\n",
       "    <tr>\n",
       "      <th>27496</th>\n",
       "      <td>lost</td>\n",
       "      <td>-1.0</td>\n",
       "    </tr>\n",
       "    <tr>\n",
       "      <th>27497</th>\n",
       "      <td>forc</td>\n",
       "      <td>-1.0</td>\n",
       "    </tr>\n",
       "    <tr>\n",
       "      <th>27498</th>\n",
       "      <td>yay good</td>\n",
       "      <td>1.0</td>\n",
       "    </tr>\n",
       "    <tr>\n",
       "      <th>27499</th>\n",
       "      <td>but worth * * * *</td>\n",
       "      <td>1.0</td>\n",
       "    </tr>\n",
       "    <tr>\n",
       "      <th>27500</th>\n",
       "      <td>all flirt go - the atg smile yay ( ( hug )</td>\n",
       "      <td>0.0</td>\n",
       "    </tr>\n",
       "  </tbody>\n",
       "</table>\n",
       "<p>27481 rows × 2 columns</p>\n",
       "</div>"
      ],
      "text/plain": [
       "                                    selected_text  sentiment\n",
       "20                                 i respond i go        0.0\n",
       "21                                       sooo sad       -1.0\n",
       "22                                          bulli       -1.0\n",
       "23                                      leav alon       -1.0\n",
       "24                                    son * * * *       -1.0\n",
       "...                                           ...        ...\n",
       "27496                                        lost       -1.0\n",
       "27497                                        forc       -1.0\n",
       "27498                                    yay good        1.0\n",
       "27499                           but worth * * * *        1.0\n",
       "27500  all flirt go - the atg smile yay ( ( hug )        0.0\n",
       "\n",
       "[27481 rows x 2 columns]"
      ]
     },
     "execution_count": 16,
     "metadata": {},
     "output_type": "execute_result"
    }
   ],
   "source": [
    "#As api joined to dataset, splitting back up\n",
    "x=pd.DataFrame(x)\n",
    "ltest=x[0:20]\n",
    "x=x[20:]\n",
    "y=df[20:]\n",
    "y"
   ]
  },
  {
   "cell_type": "code",
   "execution_count": 17,
   "id": "e151803e",
   "metadata": {},
   "outputs": [],
   "source": [
    "#Moving on to training"
   ]
  },
  {
   "cell_type": "code",
   "execution_count": 18,
   "id": "dc4bd488",
   "metadata": {},
   "outputs": [],
   "source": [
    "X_train, X_test, y_train, y_test=train_test_split(x,y['sentiment'],test_size=.2,random_state=18)"
   ]
  },
  {
   "cell_type": "code",
   "execution_count": 19,
   "id": "9a99d43f",
   "metadata": {},
   "outputs": [],
   "source": [
    "from sklearn.svm import SVC\n",
    "from sklearn.metrics import accuracy_score"
   ]
  },
  {
   "cell_type": "code",
   "execution_count": 20,
   "id": "f62d5e33",
   "metadata": {},
   "outputs": [
    {
     "data": {
      "text/plain": [
       "SVC(random_state=20)"
      ]
     },
     "execution_count": 20,
     "metadata": {},
     "output_type": "execute_result"
    }
   ],
   "source": [
    "svc=SVC(random_state=20)\n",
    "svc.fit(X_train, y_train)"
   ]
  },
  {
   "cell_type": "code",
   "execution_count": null,
   "id": "9137bf0f",
   "metadata": {},
   "outputs": [],
   "source": [
    "#Assessing accuracy"
   ]
  },
  {
   "cell_type": "code",
   "execution_count": 22,
   "id": "5b9ef20d",
   "metadata": {},
   "outputs": [
    {
     "data": {
      "text/plain": [
       "0.8149899945424777"
      ]
     },
     "execution_count": 22,
     "metadata": {},
     "output_type": "execute_result"
    }
   ],
   "source": [
    "predicted = svc.predict(X_test)\n",
    "actual = np.array(y_test)\n",
    "accuracy_score(predicted, actual)"
   ]
  },
  {
   "cell_type": "code",
   "execution_count": null,
   "id": "a62abd29",
   "metadata": {},
   "outputs": [],
   "source": [
    "from sklearn.metrics import confusion_matrix\n",
    "cf_matrix = confusion_matrix(predicted, actual)"
   ]
  },
  {
   "cell_type": "code",
   "execution_count": null,
   "id": "bbcf1b60",
   "metadata": {},
   "outputs": [],
   "source": [
    "import seaborn as sns\n",
    "import matplotlib.pyplot as plt\n",
    "ax = sns.heatmap(cf_matrix, annot=True, cmap='Blues')\n",
    "\n",
    "ax.set_title('Seaborn Confusion Matrix with labels\\n\\n');\n",
    "ax.set_xlabel('\\nPredicted Values')\n",
    "ax.set_ylabel('Actual Values ');\n",
    "\n",
    "## Ticket labels - List must be in alphabetical order\n",
    "ax.xaxis.set_ticklabels(['-1','0','1'])\n",
    "ax.yaxis.set_ticklabels(['-1','0', '1'])\n",
    "\n",
    "## Display the visualization of the Confusion Matrix.\n",
    "plt.show()"
   ]
  },
  {
   "cell_type": "code",
   "execution_count": null,
   "id": "898c4f36",
   "metadata": {},
   "outputs": [],
   "source": [
    "from sklearn.metrics import f1_score\n",
    "f1_score(actual, predicted, average='weighted')"
   ]
  },
  {
   "cell_type": "code",
   "execution_count": null,
   "id": "2c05ee70",
   "metadata": {},
   "outputs": [],
   "source": [
    "#Running the model on twitter api and exporting tweet, sentiment to csv"
   ]
  },
  {
   "cell_type": "code",
   "execution_count": null,
   "id": "d4264d86",
   "metadata": {},
   "outputs": [],
   "source": [
    "res=svc.predict(ltest)"
   ]
  },
  {
   "cell_type": "code",
   "execution_count": null,
   "id": "90ba9f92",
   "metadata": {},
   "outputs": [],
   "source": [
    "SVC_Tf=pd.DataFrame({'selected_text': tweetlist,'sentiment':res})\n",
    "SVC_Tf.to_csv('SVC_Tf.csv')"
   ]
  }
 ],
 "metadata": {
  "kernelspec": {
   "display_name": "Python 3 (ipykernel)",
   "language": "python",
   "name": "python3"
  },
  "language_info": {
   "codemirror_mode": {
    "name": "ipython",
    "version": 3
   },
   "file_extension": ".py",
   "mimetype": "text/x-python",
   "name": "python",
   "nbconvert_exporter": "python",
   "pygments_lexer": "ipython3",
   "version": "3.9.12"
  }
 },
 "nbformat": 4,
 "nbformat_minor": 5
}
