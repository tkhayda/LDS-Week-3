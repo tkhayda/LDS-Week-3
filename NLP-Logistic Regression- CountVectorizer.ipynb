{
 "cells": [
  {
   "cell_type": "code",
   "execution_count": 1,
   "id": "372ff4c1",
   "metadata": {},
   "outputs": [
    {
     "data": {
      "text/html": [
       "<div>\n",
       "<style scoped>\n",
       "    .dataframe tbody tr th:only-of-type {\n",
       "        vertical-align: middle;\n",
       "    }\n",
       "\n",
       "    .dataframe tbody tr th {\n",
       "        vertical-align: top;\n",
       "    }\n",
       "\n",
       "    .dataframe thead th {\n",
       "        text-align: right;\n",
       "    }\n",
       "</style>\n",
       "<table border=\"1\" class=\"dataframe\">\n",
       "  <thead>\n",
       "    <tr style=\"text-align: right;\">\n",
       "      <th></th>\n",
       "      <th>textID</th>\n",
       "      <th>text</th>\n",
       "      <th>selected_text</th>\n",
       "      <th>sentiment</th>\n",
       "    </tr>\n",
       "  </thead>\n",
       "  <tbody>\n",
       "    <tr>\n",
       "      <th>0</th>\n",
       "      <td>cb774db0d1</td>\n",
       "      <td>I`d have responded, if I were going</td>\n",
       "      <td>I`d have responded, if I were going</td>\n",
       "      <td>neutral</td>\n",
       "    </tr>\n",
       "    <tr>\n",
       "      <th>1</th>\n",
       "      <td>549e992a42</td>\n",
       "      <td>Sooo SAD I will miss you here in San Diego!!!</td>\n",
       "      <td>Sooo SAD</td>\n",
       "      <td>negative</td>\n",
       "    </tr>\n",
       "    <tr>\n",
       "      <th>2</th>\n",
       "      <td>088c60f138</td>\n",
       "      <td>my boss is bullying me...</td>\n",
       "      <td>bullying me</td>\n",
       "      <td>negative</td>\n",
       "    </tr>\n",
       "    <tr>\n",
       "      <th>3</th>\n",
       "      <td>9642c003ef</td>\n",
       "      <td>what interview! leave me alone</td>\n",
       "      <td>leave me alone</td>\n",
       "      <td>negative</td>\n",
       "    </tr>\n",
       "    <tr>\n",
       "      <th>4</th>\n",
       "      <td>358bd9e861</td>\n",
       "      <td>Sons of ****, why couldn`t they put them on t...</td>\n",
       "      <td>Sons of ****,</td>\n",
       "      <td>negative</td>\n",
       "    </tr>\n",
       "  </tbody>\n",
       "</table>\n",
       "</div>"
      ],
      "text/plain": [
       "       textID                                               text  \\\n",
       "0  cb774db0d1                I`d have responded, if I were going   \n",
       "1  549e992a42      Sooo SAD I will miss you here in San Diego!!!   \n",
       "2  088c60f138                          my boss is bullying me...   \n",
       "3  9642c003ef                     what interview! leave me alone   \n",
       "4  358bd9e861   Sons of ****, why couldn`t they put them on t...   \n",
       "\n",
       "                         selected_text sentiment  \n",
       "0  I`d have responded, if I were going   neutral  \n",
       "1                             Sooo SAD  negative  \n",
       "2                          bullying me  negative  \n",
       "3                       leave me alone  negative  \n",
       "4                        Sons of ****,  negative  "
      ]
     },
     "execution_count": 1,
     "metadata": {},
     "output_type": "execute_result"
    }
   ],
   "source": [
    "import pandas as pd\n",
    "df = pd.read_csv('Tweets.csv')\n",
    "df.head()"
   ]
  },
  {
   "cell_type": "code",
   "execution_count": 2,
   "id": "a45701ed",
   "metadata": {},
   "outputs": [],
   "source": [
    "import numpy as np\n",
    "df = df.dropna()"
   ]
  },
  {
   "cell_type": "code",
   "execution_count": 3,
   "id": "d509a9d6",
   "metadata": {},
   "outputs": [],
   "source": [
    "from sklearn.model_selection import train_test_split\n",
    "text = df['selected_text'].values\n",
    "sentiment = df['sentiment'].values\n",
    "text_train, text_test, y_train, y_test = train_test_split(text, sentiment, test_size=0.7, random_state=1000)\n"
   ]
  },
  {
   "cell_type": "code",
   "execution_count": 4,
   "id": "8c91676e",
   "metadata": {},
   "outputs": [],
   "source": [
    "from spacy.lang.en.stop_words import STOP_WORDS\n",
    "from spacy.lang.en import English\n",
    "import string\n",
    "\n",
    "punctuations = string.punctuation\n",
    "parser = English()\n",
    "stopwords = list(STOP_WORDS)\n",
    "def spacy_tokenizer(utterance):\n",
    "    tokens = parser(utterance)\n",
    "    return [token.lemma_.lower().strip() for token in tokens if token.text.lower().strip() not in stopwords and token.text not in punctuations]\n"
   ]
  },
  {
   "cell_type": "code",
   "execution_count": 5,
   "id": "96cfe035",
   "metadata": {},
   "outputs": [
    {
     "name": "stderr",
     "output_type": "stream",
     "text": [
      "/Applications/anaconda3/lib/python3.8/site-packages/sklearn/feature_extraction/text.py:489: UserWarning: The parameter 'token_pattern' will not be used since 'tokenizer' is not None'\n",
      "  warnings.warn(\"The parameter 'token_pattern' will not be used\"\n"
     ]
    },
    {
     "data": {
      "text/plain": [
       "CountVectorizer(tokenizer=<function spacy_tokenizer at 0x7fec073f2940>)"
      ]
     },
     "execution_count": 5,
     "metadata": {},
     "output_type": "execute_result"
    }
   ],
   "source": [
    "from sklearn.feature_extraction.text import CountVectorizer\n",
    "vectorizer = CountVectorizer(tokenizer = spacy_tokenizer, ngram_range=(1,1))\n",
    "vectorizer.fit(text_train)\n"
   ]
  },
  {
   "cell_type": "code",
   "execution_count": 6,
   "id": "7b32a521",
   "metadata": {},
   "outputs": [],
   "source": [
    "X_train = vectorizer.transform(text_train)\n",
    "X_test = vectorizer.transform(text_test)"
   ]
  },
  {
   "cell_type": "code",
   "execution_count": 7,
   "id": "503b0213",
   "metadata": {},
   "outputs": [
    {
     "data": {
      "text/plain": [
       "LogisticRegression()"
      ]
     },
     "execution_count": 7,
     "metadata": {},
     "output_type": "execute_result"
    }
   ],
   "source": [
    "from sklearn.linear_model import LogisticRegression\n",
    "classifier = LogisticRegression()\n",
    "classifier.fit(X_train, y_train)"
   ]
  },
  {
   "cell_type": "code",
   "execution_count": 8,
   "id": "a341b02a",
   "metadata": {},
   "outputs": [
    {
     "name": "stdout",
     "output_type": "stream",
     "text": [
      "0.5586400499064255\n"
     ]
    }
   ],
   "source": [
    "accuracy = classifier.score(X_test, y_test)\n",
    "print(accuracy)"
   ]
  },
  {
   "cell_type": "code",
   "execution_count": 24,
   "id": "99ec2616",
   "metadata": {},
   "outputs": [
    {
     "ename": "AttributeError",
     "evalue": "type object 'PrecisionRecallDisplay' has no attribute 'from_estimator'",
     "output_type": "error",
     "traceback": [
      "\u001b[0;31m---------------------------------------------------------------------------\u001b[0m",
      "\u001b[0;31mAttributeError\u001b[0m                            Traceback (most recent call last)",
      "\u001b[0;32m<ipython-input-24-27fb0c712527>\u001b[0m in \u001b[0;36m<module>\u001b[0;34m\u001b[0m\n\u001b[1;32m      1\u001b[0m \u001b[0;32mfrom\u001b[0m \u001b[0msklearn\u001b[0m\u001b[0;34m.\u001b[0m\u001b[0mmetrics\u001b[0m \u001b[0;32mimport\u001b[0m \u001b[0mPrecisionRecallDisplay\u001b[0m\u001b[0;34m\u001b[0m\u001b[0;34m\u001b[0m\u001b[0m\n\u001b[1;32m      2\u001b[0m \u001b[0;34m\u001b[0m\u001b[0m\n\u001b[0;32m----> 3\u001b[0;31m \u001b[0mdisplay\u001b[0m \u001b[0;34m=\u001b[0m \u001b[0mPrecisionRecallDisplay\u001b[0m\u001b[0;34m.\u001b[0m\u001b[0mfrom_estimator\u001b[0m\u001b[0;34m(\u001b[0m\u001b[0mclassifier\u001b[0m\u001b[0;34m,\u001b[0m \u001b[0mX_text\u001b[0m\u001b[0;34m,\u001b[0m \u001b[0my_text\u001b[0m\u001b[0;34m,\u001b[0m \u001b[0mname\u001b[0m\u001b[0;34m=\u001b[0m\u001b[0;34m\"LinearSVC\"\u001b[0m\u001b[0;34m)\u001b[0m\u001b[0;34m\u001b[0m\u001b[0;34m\u001b[0m\u001b[0m\n\u001b[0m\u001b[1;32m      4\u001b[0m \u001b[0m_\u001b[0m\u001b[0;34m=\u001b[0m\u001b[0mdisplay\u001b[0m\u001b[0;34m.\u001b[0m\u001b[0max_\u001b[0m\u001b[0;34m.\u001b[0m\u001b[0mset_title\u001b[0m\u001b[0;34m(\u001b[0m\u001b[0;34m\"2-class Precision-Recall curve\"\u001b[0m\u001b[0;34m)\u001b[0m\u001b[0;34m\u001b[0m\u001b[0;34m\u001b[0m\u001b[0m\n",
      "\u001b[0;31mAttributeError\u001b[0m: type object 'PrecisionRecallDisplay' has no attribute 'from_estimator'"
     ]
    }
   ],
   "source": []
  },
  {
   "cell_type": "code",
   "execution_count": 9,
   "id": "5a0c7614",
   "metadata": {},
   "outputs": [],
   "source": [
    "import tweepy"
   ]
  },
  {
   "cell_type": "code",
   "execution_count": 10,
   "id": "0d967688",
   "metadata": {},
   "outputs": [],
   "source": [
    "client = tweepy.Client(\"\")"
   ]
  },
  {
   "cell_type": "code",
   "execution_count": 15,
   "id": "10edc520",
   "metadata": {},
   "outputs": [],
   "source": [
    "query = 'from:CaucasianJames'\n",
    "\n",
    "tweets = client.search_recent_tweets(query=query, tweet_fields=['context_annotations', 'created_at'], max_results=20)"
   ]
  },
  {
   "cell_type": "code",
   "execution_count": 18,
   "id": "66fc5552",
   "metadata": {},
   "outputs": [],
   "source": [
    "new_text = []\n",
    "for tweet in tweets.data:\n",
    "    new_text.append(tweet.text)\n",
    "    "
   ]
  },
  {
   "cell_type": "code",
   "execution_count": 19,
   "id": "1dd31719",
   "metadata": {},
   "outputs": [],
   "source": [
    "X_new = vectorizer.transform(new_text)"
   ]
  },
  {
   "cell_type": "code",
   "execution_count": 23,
   "id": "8ea41dd2",
   "metadata": {},
   "outputs": [],
   "source": [
    "y_new = classifier.predict(X_new)"
   ]
  },
  {
   "cell_type": "code",
   "execution_count": 22,
   "id": "cc398802",
   "metadata": {},
   "outputs": [
    {
     "name": "stdout",
     "output_type": "stream",
     "text": [
      "it’s crazy that i’m the only one keeping ms. fowl’s legacy alive\n",
      "\n",
      "\n",
      "@guitaromantics ur welcome\n",
      "\n",
      "\n",
      "my favorite drop yet \n",
      "\n",
      "only at https://t.co/9Dy8EOMJI8\n",
      "\n",
      "\n",
      "the caucasian james silly shirt collection drops tomorrow at noon CT https://t.co/Ct7Ue9iZjl\n",
      "\n",
      "\n",
      "just another reminder that this is my summer\n",
      "\n",
      "\n",
      "we did it https://t.co/HJqX1Ck4Dg\n",
      "\n",
      "\n",
      "@theantedwards_ @netflix @juanchiviris41 oscar incoming\n",
      "\n",
      "\n",
      "@WillyTrillEra it’s no secret that i’m attractive and wanted by thousands of women\n",
      "\n",
      "\n",
      "incredibly dedicated sibling https://t.co/u7UQy0mi98\n",
      "\n",
      "\n",
      "tasted excellent btw\n",
      "\n",
      "\n",
      "chipotle worker said he put his heart and soul into the steak and wanted me to try it so he gave me a sample. i would like to nominate him for dude of the week https://t.co/XmERko9FBW\n",
      "\n",
      "\n",
      "@jaredmfier @devdevdevawn we don’t need anymore because we already have u\n",
      "\n",
      "\n",
      "@kristoferthomas my buddy did a presentation in college on how smoking weed is actually good for u. eye opening. let me send it to u\n",
      "\n",
      "\n",
      "@hanachandeluxe i support this\n",
      "\n",
      "\n",
      "@hanachandeluxe true, the courts get lonely https://t.co/jN67sk6UAp\n",
      "\n",
      "\n",
      "@eddyburback i understand\n",
      "\n",
      "\n",
      "@BillRatchet then we saw him do the butterfly stroke in beijing and forgot all about it\n",
      "\n",
      "\n",
      "i forgive michael phelps for smoking weed\n",
      "\n",
      "\n",
      "it didn’t actually i’m sorry about lying\n",
      "\n",
      "\n",
      "shot went in\n",
      "\n",
      "\n"
     ]
    }
   ],
   "source": [
    "for tweet in new_text:\n",
    "    print(tweet)\n",
    "    print('\\n')"
   ]
  },
  {
   "cell_type": "code",
   "execution_count": null,
   "id": "ff3318fc",
   "metadata": {},
   "outputs": [],
   "source": []
  }
 ],
 "metadata": {
  "kernelspec": {
   "display_name": "Python 3 (ipykernel)",
   "language": "python",
   "name": "python3"
  },
  "language_info": {
   "codemirror_mode": {
    "name": "ipython",
    "version": 3
   },
   "file_extension": ".py",
   "mimetype": "text/x-python",
   "name": "python",
   "nbconvert_exporter": "python",
   "pygments_lexer": "ipython3",
   "version": "3.9.12"
  }
 },
 "nbformat": 4,
 "nbformat_minor": 5
}
